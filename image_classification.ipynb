{
 "cells": [
  {
   "cell_type": "code",
   "execution_count": 12,
   "metadata": {},
   "outputs": [
    {
     "name": "stdout",
     "output_type": "stream",
     "text": [
      "1.13.1\n",
      "2.2.4-tf\n"
     ]
    }
   ],
   "source": [
    "import tensorflow as tf\n",
    "from tensorflow.keras import layers\n",
    "import numpy as np\n",
    "\n",
    "print(tf.VERSION)\n",
    "print(tf.keras.__version__)"
   ]
  },
  {
   "cell_type": "code",
   "execution_count": 13,
   "metadata": {},
   "outputs": [],
   "source": [
    "from tensorflow.keras.preprocessing import image\n",
    "from tensorflow.keras.applications.resnet50 import preprocess_input, decode_predictions"
   ]
  },
  {
   "cell_type": "code",
   "execution_count": 20,
   "metadata": {},
   "outputs": [],
   "source": [
    "img_path = 'image/826dfc2c-c170-467a-b07c-9ed8a7ad72c7.jpg'\n",
    "img = image.load_img(img_path, target_size=(224, 224) )"
   ]
  },
  {
   "cell_type": "code",
   "execution_count": 21,
   "metadata": {},
   "outputs": [],
   "source": [
    "x = image.img_to_array(img)\n",
    "x = np.expand_dims(x, axis=0 )\n",
    "x = preprocess_input(x)"
   ]
  },
  {
   "cell_type": "code",
   "execution_count": 22,
   "metadata": {},
   "outputs": [
    {
     "data": {
      "text/plain": [
       "numpy.ndarray"
      ]
     },
     "execution_count": 22,
     "metadata": {},
     "output_type": "execute_result"
    }
   ],
   "source": [
    "type(x)"
   ]
  },
  {
   "cell_type": "code",
   "execution_count": 17,
   "metadata": {},
   "outputs": [],
   "source": [
    "from tensorflow.keras.applications.resnet50 import ResNet50\n",
    "model = ResNet50(weights='imagenet')"
   ]
  },
  {
   "cell_type": "code",
   "execution_count": 23,
   "metadata": {},
   "outputs": [],
   "source": [
    "preds = model.predict(x)\n",
    "finalPrediction = decode_predictions(preds, top=3)[0]"
   ]
  },
  {
   "cell_type": "code",
   "execution_count": 24,
   "metadata": {},
   "outputs": [
    {
     "data": {
      "text/plain": [
       "[(u'n02124075', u'Egyptian_cat', 0.39043778),\n",
       " (u'n02123045', u'tabby', 0.2784161),\n",
       " (u'n02123159', u'tiger_cat', 0.2629134)]"
      ]
     },
     "execution_count": 24,
     "metadata": {},
     "output_type": "execute_result"
    }
   ],
   "source": [
    "finalPrediction"
   ]
  },
  {
   "cell_type": "code",
   "execution_count": 35,
   "metadata": {},
   "outputs": [
    {
     "data": {
      "text/plain": [
       "'/home/thaithien/miniconda3/envs/tf3/bin/python'"
      ]
     },
     "execution_count": 35,
     "metadata": {},
     "output_type": "execute_result"
    }
   ],
   "source": [
    "import sys\n",
    "sys.executable"
   ]
  },
  {
   "cell_type": "code",
   "execution_count": 27,
   "metadata": {},
   "outputs": [],
   "source": []
  },
  {
   "cell_type": "code",
   "execution_count": 28,
   "metadata": {},
   "outputs": [
    {
     "data": {
      "text/plain": [
       "[(u'n02124075', u'Egyptian_cat', 0.39043778),\n",
       " (u'n02123045', u'tabby', 0.2784161),\n",
       " (u'n02123159', u'tiger_cat', 0.2629134),\n",
       " (u'n02870880', u'bookcase', 0.04062612),\n",
       " (u'n02871525', u'bookshop', 0.004083313)]"
      ]
     },
     "execution_count": 28,
     "metadata": {},
     "output_type": "execute_result"
    }
   ],
   "source": []
  },
  {
   "cell_type": "code",
   "execution_count": 29,
   "metadata": {},
   "outputs": [
    {
     "data": {
      "text/plain": [
       "[(u'n04553703', u'washbasin', 0.76950485),\n",
       " (u'n04493381', u'tub', 0.1092871),\n",
       " (u'n02808440', u'bathtub', 0.054814823),\n",
       " (u'n03775546', u'mixing_bowl', 0.022263069),\n",
       " (u'n04554684', u'washer', 0.016111242)]"
      ]
     },
     "execution_count": 29,
     "metadata": {},
     "output_type": "execute_result"
    }
   ],
   "source": [
    "img_path = 'image/e3ac6bb9-996c-41df-ba02-d1f6ca16e944.jpg'\n",
    "img = image.load_img(img_path, target_size=(224, 224) )\n",
    "x = image.img_to_array(img)\n",
    "x = np.expand_dims(x, axis=0 )\n",
    "x = preprocess_input(x)\n",
    "preds = model.predict(x)\n",
    "finalPrediction = decode_predictions(preds, top=5)[0]\n",
    "finalPrediction"
   ]
  },
  {
   "cell_type": "code",
   "execution_count": 30,
   "metadata": {},
   "outputs": [],
   "source": [
    "def predict_image(img_path):\n",
    "    img = image.load_img(img_path, target_size=(224, 224) )\n",
    "    x = image.img_to_array(img)\n",
    "    x = np.expand_dims(x, axis=0 )\n",
    "    x = preprocess_input(x)\n",
    "    preds = model.predict(x)\n",
    "    finalPrediction = decode_predictions(preds, top=5)[0]\n",
    "    return finalPrediction"
   ]
  },
  {
   "cell_type": "code",
   "execution_count": 33,
   "metadata": {},
   "outputs": [
    {
     "data": {
      "text/plain": [
       "[(u'n01877812', u'wallaby', 0.16175914),\n",
       " (u'n02111889', u'Samoyed', 0.14599025),\n",
       " (u'n02120079', u'Arctic_fox', 0.12911293),\n",
       " (u'n02098286', u'West_Highland_white_terrier', 0.11924686),\n",
       " (u'n02124075', u'Egyptian_cat', 0.06391069)]"
      ]
     },
     "execution_count": 33,
     "metadata": {},
     "output_type": "execute_result"
    }
   ],
   "source": [
    "predict_image(\"image/c64a6687-eea7-4bbe-9948-7494c622aae7.jpg\")"
   ]
  },
  {
   "cell_type": "code",
   "execution_count": 34,
   "metadata": {},
   "outputs": [
    {
     "data": {
      "text/plain": [
       "[(u'n02497673', u'Madagascar_cat', 0.46488655),\n",
       " (u'n02124075', u'Egyptian_cat', 0.21277095),\n",
       " (u'n02123159', u'tiger_cat', 0.06844135),\n",
       " (u'n02123045', u'tabby', 0.06709229),\n",
       " (u'n01882714', u'koala', 0.04686455)]"
      ]
     },
     "execution_count": 34,
     "metadata": {},
     "output_type": "execute_result"
    }
   ],
   "source": [
    "predict_image(\"image/1c28f55d-3052-42e4-917f-4202197eee69.jpg\")"
   ]
  },
  {
   "cell_type": "code",
   "execution_count": null,
   "metadata": {},
   "outputs": [],
   "source": []
  }
 ],
 "metadata": {
  "kernelspec": {
   "display_name": "Python 2",
   "language": "python",
   "name": "python2"
  },
  "language_info": {
   "codemirror_mode": {
    "name": "ipython",
    "version": 2
   },
   "file_extension": ".py",
   "mimetype": "text/x-python",
   "name": "python",
   "nbconvert_exporter": "python",
   "pygments_lexer": "ipython2",
   "version": "2.7.16"
  }
 },
 "nbformat": 4,
 "nbformat_minor": 2
}
